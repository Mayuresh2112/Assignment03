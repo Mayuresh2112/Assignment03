{
  "nbformat": 4,
  "nbformat_minor": 0,
  "metadata": {
    "colab": {
      "provenance": []
    },
    "kernelspec": {
      "name": "python3",
      "display_name": "Python 3"
    },
    "language_info": {
      "name": "python"
    }
  },
  "cells": [
    {
      "cell_type": "markdown",
      "source": [
        "**Q.1) What is the difference betweeen set and dictionary, Explain  with the suitable example**\n",
        "\n",
        "**Ans:**\n",
        "\n",
        "\n",
        "Set:   Sets are unordered collections of unique elements.\n",
        "\n",
        "Dict: Dictionaries are unordered collections of key-value pairs. \n"
      ],
      "metadata": {
        "id": "ivFDfgiHgY2v"
      }
    },
    {
      "cell_type": "code",
      "source": [
        "# Creating set\n",
        "\n",
        "s4 =set()\n",
        "s4.add(1)\n",
        "s4"
      ],
      "metadata": {
        "colab": {
          "base_uri": "https://localhost:8080/"
        },
        "id": "BS1ntkRKpqDm",
        "outputId": "7f7abcb3-8032-4258-c17f-60a27f68b668"
      },
      "execution_count": 2,
      "outputs": [
        {
          "output_type": "execute_result",
          "data": {
            "text/plain": [
              "{1}"
            ]
          },
          "metadata": {},
          "execution_count": 2
        }
      ]
    },
    {
      "cell_type": "code",
      "source": [
        "#Creating Dict\n",
        "\n",
        "dict = {'Name' : 'Mayuresh Nehe',\n",
        "        'Age' : 22,\n",
        "        'Subject' : 'MAchine Leaning',\n",
        "        'Batch' : 'Morning'}\n",
        "dict"
      ],
      "metadata": {
        "colab": {
          "base_uri": "https://localhost:8080/"
        },
        "id": "xVItGjxuqxcP",
        "outputId": "bed84cf4-28ff-49eb-dcdc-df1869ffdf10"
      },
      "execution_count": 3,
      "outputs": [
        {
          "output_type": "execute_result",
          "data": {
            "text/plain": [
              "{'Name': 'Mayuresh Nehe',\n",
              " 'Age': 22,\n",
              " 'Subject': 'MAchine Leaning',\n",
              " 'Batch': 'Morning'}"
            ]
          },
          "metadata": {},
          "execution_count": 3
        }
      ]
    },
    {
      "cell_type": "markdown",
      "source": [
        "**Q.2) Write a program to print the following pattern**"
      ],
      "metadata": {
        "id": "cOXQR5dTiC99"
      }
    },
    {
      "cell_type": "code",
      "source": [
        "for i in range(3):\n",
        "  for j in range(i+1):\n",
        "    print('*', end = ' ')\n",
        "  print()"
      ],
      "metadata": {
        "colab": {
          "base_uri": "https://localhost:8080/"
        },
        "id": "QghHyw1ViK9T",
        "outputId": "7afca4d8-a0f9-48ae-adbd-f472eb16b248"
      },
      "execution_count": 4,
      "outputs": [
        {
          "output_type": "stream",
          "name": "stdout",
          "text": [
            "* \n",
            "* * \n",
            "* * * \n"
          ]
        }
      ]
    },
    {
      "cell_type": "markdown",
      "source": [
        "**3. Write a program to print n natural number in ascending order using a while loop?**\n",
        "\n"
      ],
      "metadata": {
        "id": "0ZTK_RDFrmE3"
      }
    },
    {
      "cell_type": "code",
      "source": [
        "n = 6\n",
        "\n",
        "\n",
        "i = 1\n",
        "\n",
        "while i <= n:\n",
        "    print(i)\n",
        "    i += 1\n"
      ],
      "metadata": {
        "colab": {
          "base_uri": "https://localhost:8080/"
        },
        "id": "_DWJ0CwqrjzD",
        "outputId": "3524033d-5d38-4c2f-aacc-3cca52961e4a"
      },
      "execution_count": 11,
      "outputs": [
        {
          "output_type": "stream",
          "name": "stdout",
          "text": [
            "1\n",
            "2\n",
            "3\n",
            "4\n",
            "5\n",
            "6\n"
          ]
        }
      ]
    },
    {
      "cell_type": "markdown",
      "source": [
        "**4. Write a program in Python to swap between two numbers without using a third variable**\n",
        "\n"
      ],
      "metadata": {
        "id": "HXxZnl4Etio8"
      }
    },
    {
      "cell_type": "code",
      "source": [
        "a = 5\n",
        "b = 6\n",
        "\n",
        "a,b = b,a\n",
        "print(a)\n",
        "print(b)"
      ],
      "metadata": {
        "colab": {
          "base_uri": "https://localhost:8080/"
        },
        "id": "85zfhyVgtLPX",
        "outputId": "6529e8ed-df59-454a-b5e0-58c1c13af2cd"
      },
      "execution_count": 7,
      "outputs": [
        {
          "output_type": "stream",
          "name": "stdout",
          "text": [
            "6\n",
            "5\n"
          ]
        }
      ]
    },
    {
      "cell_type": "markdown",
      "source": [
        "**5. How to Create a Function with Default Arguments in Python.( Example)**"
      ],
      "metadata": {
        "id": "VPMg9ATVuue2"
      }
    },
    {
      "cell_type": "code",
      "source": [
        "def my_function(arg1, arg2=\"default value\"):\n",
        "    print(arg1, arg2)\n",
        "\n",
        "my_function(\"Hello\")\n",
        "\n",
        "\n",
        "my_function(\"World\")"
      ],
      "metadata": {
        "colab": {
          "base_uri": "https://localhost:8080/"
        },
        "id": "FKhue0O-uh14",
        "outputId": "af4af3a6-7c2b-48ae-b6cd-225cd366662b"
      },
      "execution_count": 9,
      "outputs": [
        {
          "output_type": "stream",
          "name": "stdout",
          "text": [
            "Hello default value\n",
            "World default value\n"
          ]
        }
      ]
    },
    {
      "cell_type": "markdown",
      "source": [
        "**6. Display a square of numbers from 1 to 10 using list comprehension.**"
      ],
      "metadata": {
        "id": "ghoFte6WvU9U"
      }
    },
    {
      "cell_type": "code",
      "source": [
        "numbers = list(range(1, 11))\n",
        "\n",
        "squares = [number ** 2 for number in numbers]\n",
        "\n",
        "\n",
        "print(squares)"
      ],
      "metadata": {
        "colab": {
          "base_uri": "https://localhost:8080/"
        },
        "id": "85HTNxkzvQuq",
        "outputId": "e7e1ae92-d3ab-4089-e762-b48c1e5e982d"
      },
      "execution_count": 10,
      "outputs": [
        {
          "output_type": "stream",
          "name": "stdout",
          "text": [
            "[1, 4, 9, 16, 25, 36, 49, 64, 81, 100]\n"
          ]
        }
      ]
    },
    {
      "cell_type": "markdown",
      "source": [
        "**7. What is polymorphism? Explain with example( class)**"
      ],
      "metadata": {
        "id": "fwETnzlqwGVP"
      }
    },
    {
      "cell_type": "code",
      "source": [
        "class Animal:\n",
        "    def speak(self):\n",
        "        print(\"I am an animal!\")\n",
        "\n",
        "class Dog(Animal):\n",
        "    def speak(self):\n",
        "        print(\"Woof!\")\n",
        "\n",
        "class Cat(Animal):\n",
        "    def speak(self):\n",
        "        print(\"Meow!\")\n",
        "\n",
        "# Create an instance of each class\n",
        "dog = Dog()\n",
        "cat = Cat()\n",
        "\n",
        "\n",
        "dog.speak()\n",
        "cat.speak()\n"
      ],
      "metadata": {
        "colab": {
          "base_uri": "https://localhost:8080/"
        },
        "id": "JjnRf-NEvho0",
        "outputId": "8fbaaa0d-5255-4215-92fa-3802ed2ddd7f"
      },
      "execution_count": 12,
      "outputs": [
        {
          "output_type": "stream",
          "name": "stdout",
          "text": [
            "Woof!\n",
            "Meow!\n"
          ]
        }
      ]
    },
    {
      "cell_type": "markdown",
      "source": [
        "**8. Explain conditional probability with example?**\n",
        "\n",
        "**Ans:**\n",
        "\n",
        "Conditional probability is the probability of event A happening, given that event B has already happened. It is denoted by P(A|B).\n",
        "\n",
        "For example, let's say we have a bag of marbles that contains 10 red marbles and 10 blue marbles. We randomly draw one marble from the bag. What is the probability that the marble is red?\n",
        "\n",
        "The answer is 50%. This is because there is an equal chance of drawing a red marble or a blue marble.\n",
        "\n",
        "Now, let's say we know that the first marble we drew was red. What is the probability that the second marble we draw is also red?\n",
        "\n",
        "The answer is 4/9. This is because there are now only 9 marbles left in the bag, and only 4 of them are red."
      ],
      "metadata": {
        "id": "3qhq7OngwZhc"
      }
    },
    {
      "cell_type": "markdown",
      "source": [
        "**9. Explain Emphirical rule  with diagram .**\n",
        "\n",
        "**Ans:**\n",
        "\n",
        "\n",
        "1. Approximately 68% of the data falls within one standard deviation of the mean, which is represented by the area between µ-σ and µ+σ.\n",
        "2. Approximately 95% of the data falls within two standard deviations of the mean, which is represented by the area between µ-2σ and µ+2σ.\n",
        "3. Approximately 99.7% of the data falls within three standard deviations of the mean, which is represented by the area between µ-3σ and µ+3σ.\n"
      ],
      "metadata": {
        "id": "M9M6Q5odwvZh"
      }
    },
    {
      "cell_type": "markdown",
      "source": [
        "**10.What is Hypothesis Testing ? What is the Role of p value in HT?**\n",
        "\n",
        "**Ans:**\n",
        "\n",
        "Hypothesis testing is a statistical method used to make inferences or draw conclusions about a population based on sample data. The p-value in hypothesis testing is a measure of the strength of evidence against the null hypothesis and helps determine if the results are statistically significant or simply due to chance."
      ],
      "metadata": {
        "id": "8PkXVUmQxo3z"
      }
    },
    {
      "cell_type": "markdown",
      "source": [
        "**Q2) List all the probability distributions with example?**\n",
        "\n",
        "**Ans:**\n",
        "\n",
        "1. Normal Distribution (Gaussian Distribution): It describes continuous data that follows a symmetric bell-shaped curve, such as heights or IQ scores.\n",
        "\n",
        "2. Binomial Distribution:  Example: Flipping a coin multiple times.\n",
        "\n",
        "3. Poisson Distribution:  Example: Counting the number of phone calls received per hour.\n",
        "\n",
        "4. Exponential Distribution:  Example: The time between arrivals at a bus stop.\n",
        "\n",
        "5. Uniform Distribution: Example: Rolling a fair die.\n",
        "\n",
        "6. Bernoulli Distribution: Example: Flipping a coin (success for heads, failure for tails)."
      ],
      "metadata": {
        "id": "pqtf2b0G0MoD"
      }
    },
    {
      "cell_type": "code",
      "source": [],
      "metadata": {
        "id": "p5cs7CrNwYJi"
      },
      "execution_count": 12,
      "outputs": []
    }
  ]
}